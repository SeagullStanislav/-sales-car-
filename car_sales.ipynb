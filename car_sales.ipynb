{
 "cells": [
  {
   "cell_type": "code",
   "execution_count": 27,
   "id": "0e029477",
   "metadata": {},
   "outputs": [],
   "source": [
    "import pandas as pd\n",
    "import numpy as np\n",
    "import matplotlib.pyplot as plt\n",
    "import seaborn as sns\n",
    "from sklearn.model_selection import train_test_split \n",
    "from sklearn.base import BaseEstimator, TransformerMixin\n",
    "from sklearn.metrics import mean_squared_error as mse\n",
    "from sklearn.tree import DecisionTreeRegressor\n",
    "from sklearn.pipeline import Pipeline\n",
    "from sklearn.model_selection import GridSearchCV\n",
    "from sklearn.metrics import mean_squared_error as mse\n",
    "from sklearn.tree import DecisionTreeRegressor\n",
    "from sklearn.pipeline import Pipeline\n",
    "\n",
    "\n",
    "pd.options.display.max_columns = 500 # ограничение на кол-во отображаемых столбцов"
   ]
  },
  {
   "cell_type": "code",
   "execution_count": 3,
   "id": "c3316cbc",
   "metadata": {},
   "outputs": [
    {
     "data": {
      "text/html": [
       "<div>\n",
       "<style scoped>\n",
       "    .dataframe tbody tr th:only-of-type {\n",
       "        vertical-align: middle;\n",
       "    }\n",
       "\n",
       "    .dataframe tbody tr th {\n",
       "        vertical-align: top;\n",
       "    }\n",
       "\n",
       "    .dataframe thead th {\n",
       "        text-align: right;\n",
       "    }\n",
       "</style>\n",
       "<table border=\"1\" class=\"dataframe\">\n",
       "  <thead>\n",
       "    <tr style=\"text-align: right;\">\n",
       "      <th></th>\n",
       "      <th>name</th>\n",
       "      <th>year</th>\n",
       "      <th>selling_price</th>\n",
       "      <th>km_driven</th>\n",
       "      <th>fuel</th>\n",
       "      <th>seller_type</th>\n",
       "      <th>transmission</th>\n",
       "      <th>owner</th>\n",
       "    </tr>\n",
       "  </thead>\n",
       "  <tbody>\n",
       "    <tr>\n",
       "      <th>0</th>\n",
       "      <td>Maruti 800 AC</td>\n",
       "      <td>2007</td>\n",
       "      <td>60000</td>\n",
       "      <td>70000</td>\n",
       "      <td>Petrol</td>\n",
       "      <td>Individual</td>\n",
       "      <td>Manual</td>\n",
       "      <td>First Owner</td>\n",
       "    </tr>\n",
       "    <tr>\n",
       "      <th>1</th>\n",
       "      <td>Maruti Wagon R LXI Minor</td>\n",
       "      <td>2007</td>\n",
       "      <td>135000</td>\n",
       "      <td>50000</td>\n",
       "      <td>Petrol</td>\n",
       "      <td>Individual</td>\n",
       "      <td>Manual</td>\n",
       "      <td>First Owner</td>\n",
       "    </tr>\n",
       "    <tr>\n",
       "      <th>2</th>\n",
       "      <td>Hyundai Verna 1.6 SX</td>\n",
       "      <td>2012</td>\n",
       "      <td>600000</td>\n",
       "      <td>100000</td>\n",
       "      <td>Diesel</td>\n",
       "      <td>Individual</td>\n",
       "      <td>Manual</td>\n",
       "      <td>First Owner</td>\n",
       "    </tr>\n",
       "    <tr>\n",
       "      <th>3</th>\n",
       "      <td>Datsun RediGO T Option</td>\n",
       "      <td>2017</td>\n",
       "      <td>250000</td>\n",
       "      <td>46000</td>\n",
       "      <td>Petrol</td>\n",
       "      <td>Individual</td>\n",
       "      <td>Manual</td>\n",
       "      <td>First Owner</td>\n",
       "    </tr>\n",
       "    <tr>\n",
       "      <th>4</th>\n",
       "      <td>Honda Amaze VX i-DTEC</td>\n",
       "      <td>2014</td>\n",
       "      <td>450000</td>\n",
       "      <td>141000</td>\n",
       "      <td>Diesel</td>\n",
       "      <td>Individual</td>\n",
       "      <td>Manual</td>\n",
       "      <td>Second Owner</td>\n",
       "    </tr>\n",
       "  </tbody>\n",
       "</table>\n",
       "</div>"
      ],
      "text/plain": [
       "                       name  year  selling_price  km_driven    fuel  \\\n",
       "0             Maruti 800 AC  2007          60000      70000  Petrol   \n",
       "1  Maruti Wagon R LXI Minor  2007         135000      50000  Petrol   \n",
       "2      Hyundai Verna 1.6 SX  2012         600000     100000  Diesel   \n",
       "3    Datsun RediGO T Option  2017         250000      46000  Petrol   \n",
       "4     Honda Amaze VX i-DTEC  2014         450000     141000  Diesel   \n",
       "\n",
       "  seller_type transmission         owner  \n",
       "0  Individual       Manual   First Owner  \n",
       "1  Individual       Manual   First Owner  \n",
       "2  Individual       Manual   First Owner  \n",
       "3  Individual       Manual   First Owner  \n",
       "4  Individual       Manual  Second Owner  "
      ]
     },
     "execution_count": 3,
     "metadata": {},
     "output_type": "execute_result"
    }
   ],
   "source": [
    "data = pd.read_csv('autos.csv')\n",
    "data.head()"
   ]
  },
  {
   "cell_type": "code",
   "execution_count": 4,
   "id": "ddb7c431",
   "metadata": {},
   "outputs": [
    {
     "name": "stdout",
     "output_type": "stream",
     "text": [
      "<class 'pandas.core.frame.DataFrame'>\n",
      "RangeIndex: 4340 entries, 0 to 4339\n",
      "Data columns (total 8 columns):\n",
      " #   Column         Non-Null Count  Dtype \n",
      "---  ------         --------------  ----- \n",
      " 0   name           4340 non-null   object\n",
      " 1   year           4340 non-null   int64 \n",
      " 2   selling_price  4340 non-null   int64 \n",
      " 3   km_driven      4340 non-null   int64 \n",
      " 4   fuel           4340 non-null   object\n",
      " 5   seller_type    4340 non-null   object\n",
      " 6   transmission   4340 non-null   object\n",
      " 7   owner          4340 non-null   object\n",
      "dtypes: int64(3), object(5)\n",
      "memory usage: 271.4+ KB\n"
     ]
    }
   ],
   "source": [
    "data.info()"
   ]
  },
  {
   "cell_type": "code",
   "execution_count": 5,
   "id": "acbe9701",
   "metadata": {},
   "outputs": [],
   "source": [
    "#прологарифмируем таргет\n",
    "\n",
    "X = data.drop(\"selling_price\", axis=1)\n",
    "y = data[\"selling_price\"]\n",
    "y = y.apply(np.log1p)"
   ]
  },
  {
   "cell_type": "code",
   "execution_count": 6,
   "id": "2a2f5ca4",
   "metadata": {},
   "outputs": [
    {
     "data": {
      "text/plain": [
       "0       11.002117\n",
       "1       11.813037\n",
       "2       13.304687\n",
       "3       12.429220\n",
       "4       13.017005\n",
       "          ...    \n",
       "4335    12.923912\n",
       "4336    12.923912\n",
       "4337    11.608245\n",
       "4338    13.670486\n",
       "4339    12.323860\n",
       "Name: selling_price, Length: 4340, dtype: float64"
      ]
     },
     "execution_count": 6,
     "metadata": {},
     "output_type": "execute_result"
    }
   ],
   "source": [
    "#проверем размерность таргета\n",
    "y"
   ]
  },
  {
   "cell_type": "code",
   "execution_count": 9,
   "id": "823f67c9",
   "metadata": {},
   "outputs": [],
   "source": [
    "#разделение на трейн и тест\n",
    "X_train, X_test, y_train, y_test = train_test_split(X, y, test_size=0.2, random_state=1)"
   ]
  },
  {
   "cell_type": "code",
   "execution_count": 12,
   "id": "f07f8a40",
   "metadata": {},
   "outputs": [],
   "source": [
    "#Реализуем  MeanTargetEncoder\n",
    "#Разделение колонок на категориальные и числовые.\n",
    "object_cols = ['name', 'year', 'fuel', 'seller_type', 'transmission', 'owner']\n",
    "num_cols = ['km_driven']"
   ]
  },
  {
   "cell_type": "code",
   "execution_count": 14,
   "id": "6fc33574",
   "metadata": {},
   "outputs": [],
   "source": [
    "class MeanTargetEncoderNoise(BaseEstimator, TransformerMixin):\n",
    "    \n",
    "    def __init__(self, categorical, numeric):\n",
    "        self.categorical = categorical\n",
    "        self.numeric = numeric\n",
    "    \n",
    "    def fit(self, X, y):\n",
    "        \n",
    "        c = 0.006\n",
    "\n",
    "        X_fit = X.copy()\n",
    "        y_fit = y.copy()\n",
    "        \n",
    "        X_fit[self.categorical] = X_fit[self.categorical].astype(object)\n",
    "        \n",
    "        X_with_target = pd.concat((X_fit, y_fit), axis=1)\n",
    "        \n",
    "        self.dict_of_means = {col : X_with_target.groupby(col)['selling_price'].mean() + c*np.random.normal(0, 1, 1)[0]\n",
    "                              for col in self.categorical}        \n",
    "\n",
    "        return self\n",
    "        \n",
    "    def transform(self, df):\n",
    "        \n",
    "        cols = [\n",
    "            \"km_driven\",\n",
    "            \"name\",\n",
    "            \"year\",\n",
    "            \"fuel\",\n",
    "            \"seller_type\",\n",
    "            \"transmission\",\n",
    "            \"owner\"\n",
    "        ]        \n",
    "        \n",
    "        df_ = df.copy()\n",
    "        \n",
    "        for col in self.categorical:\n",
    "                df_[col] = df_[col].map(self.dict_of_means[col])    \n",
    "                \n",
    "                mean_value = self.dict_of_means[col].values.mean()\n",
    "                \n",
    "                df_[col] = df_[col].fillna(mean_value) \n",
    "        \n",
    "        return  df_.reindex(cols, axis=1)"
   ]
  },
  {
   "cell_type": "code",
   "execution_count": 15,
   "id": "fd72a405",
   "metadata": {},
   "outputs": [
    {
     "data": {
      "text/html": [
       "<style>#sk-container-id-1 {color: black;}#sk-container-id-1 pre{padding: 0;}#sk-container-id-1 div.sk-toggleable {background-color: white;}#sk-container-id-1 label.sk-toggleable__label {cursor: pointer;display: block;width: 100%;margin-bottom: 0;padding: 0.3em;box-sizing: border-box;text-align: center;}#sk-container-id-1 label.sk-toggleable__label-arrow:before {content: \"▸\";float: left;margin-right: 0.25em;color: #696969;}#sk-container-id-1 label.sk-toggleable__label-arrow:hover:before {color: black;}#sk-container-id-1 div.sk-estimator:hover label.sk-toggleable__label-arrow:before {color: black;}#sk-container-id-1 div.sk-toggleable__content {max-height: 0;max-width: 0;overflow: hidden;text-align: left;background-color: #f0f8ff;}#sk-container-id-1 div.sk-toggleable__content pre {margin: 0.2em;color: black;border-radius: 0.25em;background-color: #f0f8ff;}#sk-container-id-1 input.sk-toggleable__control:checked~div.sk-toggleable__content {max-height: 200px;max-width: 100%;overflow: auto;}#sk-container-id-1 input.sk-toggleable__control:checked~label.sk-toggleable__label-arrow:before {content: \"▾\";}#sk-container-id-1 div.sk-estimator input.sk-toggleable__control:checked~label.sk-toggleable__label {background-color: #d4ebff;}#sk-container-id-1 div.sk-label input.sk-toggleable__control:checked~label.sk-toggleable__label {background-color: #d4ebff;}#sk-container-id-1 input.sk-hidden--visually {border: 0;clip: rect(1px 1px 1px 1px);clip: rect(1px, 1px, 1px, 1px);height: 1px;margin: -1px;overflow: hidden;padding: 0;position: absolute;width: 1px;}#sk-container-id-1 div.sk-estimator {font-family: monospace;background-color: #f0f8ff;border: 1px dotted black;border-radius: 0.25em;box-sizing: border-box;margin-bottom: 0.5em;}#sk-container-id-1 div.sk-estimator:hover {background-color: #d4ebff;}#sk-container-id-1 div.sk-parallel-item::after {content: \"\";width: 100%;border-bottom: 1px solid gray;flex-grow: 1;}#sk-container-id-1 div.sk-label:hover label.sk-toggleable__label {background-color: #d4ebff;}#sk-container-id-1 div.sk-serial::before {content: \"\";position: absolute;border-left: 1px solid gray;box-sizing: border-box;top: 0;bottom: 0;left: 50%;z-index: 0;}#sk-container-id-1 div.sk-serial {display: flex;flex-direction: column;align-items: center;background-color: white;padding-right: 0.2em;padding-left: 0.2em;position: relative;}#sk-container-id-1 div.sk-item {position: relative;z-index: 1;}#sk-container-id-1 div.sk-parallel {display: flex;align-items: stretch;justify-content: center;background-color: white;position: relative;}#sk-container-id-1 div.sk-item::before, #sk-container-id-1 div.sk-parallel-item::before {content: \"\";position: absolute;border-left: 1px solid gray;box-sizing: border-box;top: 0;bottom: 0;left: 50%;z-index: -1;}#sk-container-id-1 div.sk-parallel-item {display: flex;flex-direction: column;z-index: 1;position: relative;background-color: white;}#sk-container-id-1 div.sk-parallel-item:first-child::after {align-self: flex-end;width: 50%;}#sk-container-id-1 div.sk-parallel-item:last-child::after {align-self: flex-start;width: 50%;}#sk-container-id-1 div.sk-parallel-item:only-child::after {width: 0;}#sk-container-id-1 div.sk-dashed-wrapped {border: 1px dashed gray;margin: 0 0.4em 0.5em 0.4em;box-sizing: border-box;padding-bottom: 0.4em;background-color: white;}#sk-container-id-1 div.sk-label label {font-family: monospace;font-weight: bold;display: inline-block;line-height: 1.2em;}#sk-container-id-1 div.sk-label-container {text-align: center;}#sk-container-id-1 div.sk-container {/* jupyter's `normalize.less` sets `[hidden] { display: none; }` but bootstrap.min.css set `[hidden] { display: none !important; }` so we also need the `!important` here to be able to override the default hidden behavior on the sphinx rendered scikit-learn.org. See: https://github.com/scikit-learn/scikit-learn/issues/21755 */display: inline-block !important;position: relative;}#sk-container-id-1 div.sk-text-repr-fallback {display: none;}</style><div id=\"sk-container-id-1\" class=\"sk-top-container\"><div class=\"sk-text-repr-fallback\"><pre>MeanTargetEncoderNoise(categorical=[&#x27;name&#x27;, &#x27;year&#x27;, &#x27;fuel&#x27;, &#x27;seller_type&#x27;,\n",
       "                                    &#x27;transmission&#x27;, &#x27;owner&#x27;],\n",
       "                       numeric=[&#x27;km_driven&#x27;])</pre><b>In a Jupyter environment, please rerun this cell to show the HTML representation or trust the notebook. <br />On GitHub, the HTML representation is unable to render, please try loading this page with nbviewer.org.</b></div><div class=\"sk-container\" hidden><div class=\"sk-item\"><div class=\"sk-estimator sk-toggleable\"><input class=\"sk-toggleable__control sk-hidden--visually\" id=\"sk-estimator-id-1\" type=\"checkbox\" checked><label for=\"sk-estimator-id-1\" class=\"sk-toggleable__label sk-toggleable__label-arrow\">MeanTargetEncoderNoise</label><div class=\"sk-toggleable__content\"><pre>MeanTargetEncoderNoise(categorical=[&#x27;name&#x27;, &#x27;year&#x27;, &#x27;fuel&#x27;, &#x27;seller_type&#x27;,\n",
       "                                    &#x27;transmission&#x27;, &#x27;owner&#x27;],\n",
       "                       numeric=[&#x27;km_driven&#x27;])</pre></div></div></div></div></div>"
      ],
      "text/plain": [
       "MeanTargetEncoderNoise(categorical=['name', 'year', 'fuel', 'seller_type',\n",
       "                                    'transmission', 'owner'],\n",
       "                       numeric=['km_driven'])"
      ]
     },
     "execution_count": 15,
     "metadata": {},
     "output_type": "execute_result"
    }
   ],
   "source": [
    "transformer = MeanTargetEncoderNoise(categorical=object_cols, numeric=num_cols)\n",
    "transformer.fit(X_train, y_train)"
   ]
  },
  {
   "cell_type": "code",
   "execution_count": 16,
   "id": "dad095ff",
   "metadata": {},
   "outputs": [
    {
     "data": {
      "text/html": [
       "<div>\n",
       "<style scoped>\n",
       "    .dataframe tbody tr th:only-of-type {\n",
       "        vertical-align: middle;\n",
       "    }\n",
       "\n",
       "    .dataframe tbody tr th {\n",
       "        vertical-align: top;\n",
       "    }\n",
       "\n",
       "    .dataframe thead th {\n",
       "        text-align: right;\n",
       "    }\n",
       "</style>\n",
       "<table border=\"1\" class=\"dataframe\">\n",
       "  <thead>\n",
       "    <tr style=\"text-align: right;\">\n",
       "      <th></th>\n",
       "      <th>km_driven</th>\n",
       "      <th>name</th>\n",
       "      <th>year</th>\n",
       "      <th>fuel</th>\n",
       "      <th>seller_type</th>\n",
       "      <th>transmission</th>\n",
       "      <th>owner</th>\n",
       "    </tr>\n",
       "  </thead>\n",
       "  <tbody>\n",
       "    <tr>\n",
       "      <th>3294</th>\n",
       "      <td>50000</td>\n",
       "      <td>13.478865</td>\n",
       "      <td>13.435892</td>\n",
       "      <td>13.085954</td>\n",
       "      <td>12.611658</td>\n",
       "      <td>13.776443</td>\n",
       "      <td>12.959126</td>\n",
       "    </tr>\n",
       "    <tr>\n",
       "      <th>2290</th>\n",
       "      <td>70000</td>\n",
       "      <td>12.125200</td>\n",
       "      <td>11.906484</td>\n",
       "      <td>12.450179</td>\n",
       "      <td>12.611658</td>\n",
       "      <td>13.776443</td>\n",
       "      <td>12.959126</td>\n",
       "    </tr>\n",
       "    <tr>\n",
       "      <th>874</th>\n",
       "      <td>50000</td>\n",
       "      <td>12.311508</td>\n",
       "      <td>13.333058</td>\n",
       "      <td>12.450179</td>\n",
       "      <td>12.611658</td>\n",
       "      <td>12.643381</td>\n",
       "      <td>12.959126</td>\n",
       "    </tr>\n",
       "    <tr>\n",
       "      <th>1907</th>\n",
       "      <td>92198</td>\n",
       "      <td>12.493842</td>\n",
       "      <td>13.053677</td>\n",
       "      <td>12.450179</td>\n",
       "      <td>13.140882</td>\n",
       "      <td>12.643381</td>\n",
       "      <td>12.446379</td>\n",
       "    </tr>\n",
       "    <tr>\n",
       "      <th>3244</th>\n",
       "      <td>3240</td>\n",
       "      <td>12.401697</td>\n",
       "      <td>12.857085</td>\n",
       "      <td>12.450179</td>\n",
       "      <td>12.611658</td>\n",
       "      <td>12.643381</td>\n",
       "      <td>12.446379</td>\n",
       "    </tr>\n",
       "    <tr>\n",
       "      <th>1089</th>\n",
       "      <td>10000</td>\n",
       "      <td>12.700306</td>\n",
       "      <td>13.435892</td>\n",
       "      <td>12.450179</td>\n",
       "      <td>13.140882</td>\n",
       "      <td>12.643381</td>\n",
       "      <td>12.959126</td>\n",
       "    </tr>\n",
       "    <tr>\n",
       "      <th>3902</th>\n",
       "      <td>90000</td>\n",
       "      <td>11.706636</td>\n",
       "      <td>11.499783</td>\n",
       "      <td>12.450179</td>\n",
       "      <td>12.611658</td>\n",
       "      <td>12.643381</td>\n",
       "      <td>11.856591</td>\n",
       "    </tr>\n",
       "    <tr>\n",
       "      <th>2215</th>\n",
       "      <td>79000</td>\n",
       "      <td>11.131568</td>\n",
       "      <td>11.499783</td>\n",
       "      <td>12.450179</td>\n",
       "      <td>12.611658</td>\n",
       "      <td>12.643381</td>\n",
       "      <td>12.446379</td>\n",
       "    </tr>\n",
       "    <tr>\n",
       "      <th>3862</th>\n",
       "      <td>99700</td>\n",
       "      <td>13.181725</td>\n",
       "      <td>13.333058</td>\n",
       "      <td>13.085954</td>\n",
       "      <td>12.611658</td>\n",
       "      <td>12.643381</td>\n",
       "      <td>12.959126</td>\n",
       "    </tr>\n",
       "    <tr>\n",
       "      <th>705</th>\n",
       "      <td>124000</td>\n",
       "      <td>13.008906</td>\n",
       "      <td>12.241803</td>\n",
       "      <td>13.085954</td>\n",
       "      <td>12.611658</td>\n",
       "      <td>12.643381</td>\n",
       "      <td>12.446379</td>\n",
       "    </tr>\n",
       "  </tbody>\n",
       "</table>\n",
       "</div>"
      ],
      "text/plain": [
       "      km_driven       name       year       fuel  seller_type  transmission  \\\n",
       "3294      50000  13.478865  13.435892  13.085954    12.611658     13.776443   \n",
       "2290      70000  12.125200  11.906484  12.450179    12.611658     13.776443   \n",
       "874       50000  12.311508  13.333058  12.450179    12.611658     12.643381   \n",
       "1907      92198  12.493842  13.053677  12.450179    13.140882     12.643381   \n",
       "3244       3240  12.401697  12.857085  12.450179    12.611658     12.643381   \n",
       "1089      10000  12.700306  13.435892  12.450179    13.140882     12.643381   \n",
       "3902      90000  11.706636  11.499783  12.450179    12.611658     12.643381   \n",
       "2215      79000  11.131568  11.499783  12.450179    12.611658     12.643381   \n",
       "3862      99700  13.181725  13.333058  13.085954    12.611658     12.643381   \n",
       "705      124000  13.008906  12.241803  13.085954    12.611658     12.643381   \n",
       "\n",
       "          owner  \n",
       "3294  12.959126  \n",
       "2290  12.959126  \n",
       "874   12.959126  \n",
       "1907  12.446379  \n",
       "3244  12.446379  \n",
       "1089  12.959126  \n",
       "3902  11.856591  \n",
       "2215  12.446379  \n",
       "3862  12.959126  \n",
       "705   12.446379  "
      ]
     },
     "execution_count": 16,
     "metadata": {},
     "output_type": "execute_result"
    }
   ],
   "source": [
    "#Проверка работы трансформера.\n",
    "np.random.seed(1)\n",
    "\n",
    "transformer = MeanTargetEncoderNoise(categorical=object_cols, numeric=num_cols)\n",
    "\n",
    "transformer.fit(X_train, y_train)\n",
    "\n",
    "train = transformer.transform(X_train)\n",
    "test = transformer.transform(X_test)\n",
    "\n",
    "train.head(10)"
   ]
  },
  {
   "cell_type": "code",
   "execution_count": 17,
   "id": "03c7cece",
   "metadata": {},
   "outputs": [],
   "source": [
    "#Обучим несколько деревьев\n",
    "#Списки гиперпараметров \n",
    "max_depth_list = [3, 5, 8, 12]\n",
    "min_samples_split_list = [10, 50, 100, 500]\n",
    "min_impurity_decrease_list = [0, 0.1, 0.15, 0.2]\n",
    "max_leaf_nodes_list = [100, 200, 500]"
   ]
  },
  {
   "cell_type": "code",
   "execution_count": 21,
   "id": "e6ca5ace",
   "metadata": {},
   "outputs": [
    {
     "name": "stdout",
     "output_type": "stream",
     "text": [
      "[0.2386353595066422, 0.2238952029837222, 0.2115238838043318, 0.17867253044505008]\n"
     ]
    }
   ],
   "source": [
    "\n",
    "\n",
    "np.random.seed(1)\n",
    "\n",
    "mse_list=[]\n",
    "\n",
    "for d in max_depth_list:\n",
    "    pipe = Pipeline([(\"custom_transformer\",\n",
    "                  MeanTargetEncoderNoise(categorical=object_cols, numeric=num_cols)),\n",
    "                  \n",
    "                  \n",
    "                 (\"decision_tree\", \n",
    "                  DecisionTreeRegressor(max_depth=d))])   \n",
    "\n",
    "    pipe.fit(X_train, y_train)\n",
    "    y_pred = pipe.predict(X_test)\n",
    "    mse_list.append(mse(y_test, y_pred))  \n",
    "    \n",
    "print(mse_list)"
   ]
  },
  {
   "cell_type": "code",
   "execution_count": 22,
   "id": "cb5bed0b",
   "metadata": {},
   "outputs": [
    {
     "data": {
      "text/plain": [
       "Text(0.5, 1.0, 'MSE vs Max Depth')"
      ]
     },
     "execution_count": 22,
     "metadata": {},
     "output_type": "execute_result"
    },
    {
     "data": {
      "image/png": "[encoded data removed]",
      "text/plain": [
       "<Figure size 640x480 with 1 Axes>"
      ]
     },
     "metadata": {},
     "output_type": "display_data"
    }
   ],
   "source": [
    "#построим график зависимости MSLE на тестовой выборке от значения гиперпараметра.\n",
    "sns.lineplot(y = mse_list, x = max_depth_list)\n",
    "plt.title(\"MSE vs Max Depth\")"
   ]
  },
  {
   "cell_type": "code",
   "execution_count": 26,
   "id": "ea6fb4fd",
   "metadata": {},
   "outputs": [
    {
     "data": {
      "text/html": [
       "<style>#sk-container-id-4 {color: black;}#sk-container-id-4 pre{padding: 0;}#sk-container-id-4 div.sk-toggleable {background-color: white;}#sk-container-id-4 label.sk-toggleable__label {cursor: pointer;display: block;width: 100%;margin-bottom: 0;padding: 0.3em;box-sizing: border-box;text-align: center;}#sk-container-id-4 label.sk-toggleable__label-arrow:before {content: \"▸\";float: left;margin-right: 0.25em;color: #696969;}#sk-container-id-4 label.sk-toggleable__label-arrow:hover:before {color: black;}#sk-container-id-4 div.sk-estimator:hover label.sk-toggleable__label-arrow:before {color: black;}#sk-container-id-4 div.sk-toggleable__content {max-height: 0;max-width: 0;overflow: hidden;text-align: left;background-color: #f0f8ff;}#sk-container-id-4 div.sk-toggleable__content pre {margin: 0.2em;color: black;border-radius: 0.25em;background-color: #f0f8ff;}#sk-container-id-4 input.sk-toggleable__control:checked~div.sk-toggleable__content {max-height: 200px;max-width: 100%;overflow: auto;}#sk-container-id-4 input.sk-toggleable__control:checked~label.sk-toggleable__label-arrow:before {content: \"▾\";}#sk-container-id-4 div.sk-estimator input.sk-toggleable__control:checked~label.sk-toggleable__label {background-color: #d4ebff;}#sk-container-id-4 div.sk-label input.sk-toggleable__control:checked~label.sk-toggleable__label {background-color: #d4ebff;}#sk-container-id-4 input.sk-hidden--visually {border: 0;clip: rect(1px 1px 1px 1px);clip: rect(1px, 1px, 1px, 1px);height: 1px;margin: -1px;overflow: hidden;padding: 0;position: absolute;width: 1px;}#sk-container-id-4 div.sk-estimator {font-family: monospace;background-color: #f0f8ff;border: 1px dotted black;border-radius: 0.25em;box-sizing: border-box;margin-bottom: 0.5em;}#sk-container-id-4 div.sk-estimator:hover {background-color: #d4ebff;}#sk-container-id-4 div.sk-parallel-item::after {content: \"\";width: 100%;border-bottom: 1px solid gray;flex-grow: 1;}#sk-container-id-4 div.sk-label:hover label.sk-toggleable__label {background-color: #d4ebff;}#sk-container-id-4 div.sk-serial::before {content: \"\";position: absolute;border-left: 1px solid gray;box-sizing: border-box;top: 0;bottom: 0;left: 50%;z-index: 0;}#sk-container-id-4 div.sk-serial {display: flex;flex-direction: column;align-items: center;background-color: white;padding-right: 0.2em;padding-left: 0.2em;position: relative;}#sk-container-id-4 div.sk-item {position: relative;z-index: 1;}#sk-container-id-4 div.sk-parallel {display: flex;align-items: stretch;justify-content: center;background-color: white;position: relative;}#sk-container-id-4 div.sk-item::before, #sk-container-id-4 div.sk-parallel-item::before {content: \"\";position: absolute;border-left: 1px solid gray;box-sizing: border-box;top: 0;bottom: 0;left: 50%;z-index: -1;}#sk-container-id-4 div.sk-parallel-item {display: flex;flex-direction: column;z-index: 1;position: relative;background-color: white;}#sk-container-id-4 div.sk-parallel-item:first-child::after {align-self: flex-end;width: 50%;}#sk-container-id-4 div.sk-parallel-item:last-child::after {align-self: flex-start;width: 50%;}#sk-container-id-4 div.sk-parallel-item:only-child::after {width: 0;}#sk-container-id-4 div.sk-dashed-wrapped {border: 1px dashed gray;margin: 0 0.4em 0.5em 0.4em;box-sizing: border-box;padding-bottom: 0.4em;background-color: white;}#sk-container-id-4 div.sk-label label {font-family: monospace;font-weight: bold;display: inline-block;line-height: 1.2em;}#sk-container-id-4 div.sk-label-container {text-align: center;}#sk-container-id-4 div.sk-container {/* jupyter's `normalize.less` sets `[hidden] { display: none; }` but bootstrap.min.css set `[hidden] { display: none !important; }` so we also need the `!important` here to be able to override the default hidden behavior on the sphinx rendered scikit-learn.org. See: https://github.com/scikit-learn/scikit-learn/issues/21755 */display: inline-block !important;position: relative;}#sk-container-id-4 div.sk-text-repr-fallback {display: none;}</style><div id=\"sk-container-id-4\" class=\"sk-top-container\"><div class=\"sk-text-repr-fallback\"><pre>GridSearchCV(estimator=Pipeline(steps=[(&#x27;custom_transformer&#x27;,\n",
       "                                        MeanTargetEncoderNoise(categorical=[&#x27;name&#x27;,\n",
       "                                                                            &#x27;year&#x27;,\n",
       "                                                                            &#x27;fuel&#x27;,\n",
       "                                                                            &#x27;seller_type&#x27;,\n",
       "                                                                            &#x27;transmission&#x27;,\n",
       "                                                                            &#x27;owner&#x27;],\n",
       "                                                               numeric=[&#x27;km_driven&#x27;])),\n",
       "                                       (&#x27;decision_tree&#x27;,\n",
       "                                        DecisionTreeRegressor())]),\n",
       "             param_grid={&#x27;decision_tree__max_depth&#x27;: [3, 5, 8, 12],\n",
       "                         &#x27;decision_tree__max_leaf_nodes&#x27;: [100, 200, 500],\n",
       "                         &#x27;decision_tree__min_impurity_decrease&#x27;: [0, 0.1, 0.15,\n",
       "                                                                  0.2],\n",
       "                         &#x27;decision_tree__min_samples_split&#x27;: [10, 50, 100,\n",
       "                                                              500]},\n",
       "             scoring=&#x27;neg_mean_squared_error&#x27;)</pre><b>In a Jupyter environment, please rerun this cell to show the HTML representation or trust the notebook. <br />On GitHub, the HTML representation is unable to render, please try loading this page with nbviewer.org.</b></div><div class=\"sk-container\" hidden><div class=\"sk-item sk-dashed-wrapped\"><div class=\"sk-label-container\"><div class=\"sk-label sk-toggleable\"><input class=\"sk-toggleable__control sk-hidden--visually\" id=\"sk-estimator-id-10\" type=\"checkbox\" ><label for=\"sk-estimator-id-10\" class=\"sk-toggleable__label sk-toggleable__label-arrow\">GridSearchCV</label><div class=\"sk-toggleable__content\"><pre>GridSearchCV(estimator=Pipeline(steps=[(&#x27;custom_transformer&#x27;,\n",
       "                                        MeanTargetEncoderNoise(categorical=[&#x27;name&#x27;,\n",
       "                                                                            &#x27;year&#x27;,\n",
       "                                                                            &#x27;fuel&#x27;,\n",
       "                                                                            &#x27;seller_type&#x27;,\n",
       "                                                                            &#x27;transmission&#x27;,\n",
       "                                                                            &#x27;owner&#x27;],\n",
       "                                                               numeric=[&#x27;km_driven&#x27;])),\n",
       "                                       (&#x27;decision_tree&#x27;,\n",
       "                                        DecisionTreeRegressor())]),\n",
       "             param_grid={&#x27;decision_tree__max_depth&#x27;: [3, 5, 8, 12],\n",
       "                         &#x27;decision_tree__max_leaf_nodes&#x27;: [100, 200, 500],\n",
       "                         &#x27;decision_tree__min_impurity_decrease&#x27;: [0, 0.1, 0.15,\n",
       "                                                                  0.2],\n",
       "                         &#x27;decision_tree__min_samples_split&#x27;: [10, 50, 100,\n",
       "                                                              500]},\n",
       "             scoring=&#x27;neg_mean_squared_error&#x27;)</pre></div></div></div><div class=\"sk-parallel\"><div class=\"sk-parallel-item\"><div class=\"sk-item\"><div class=\"sk-label-container\"><div class=\"sk-label sk-toggleable\"><input class=\"sk-toggleable__control sk-hidden--visually\" id=\"sk-estimator-id-11\" type=\"checkbox\" ><label for=\"sk-estimator-id-11\" class=\"sk-toggleable__label sk-toggleable__label-arrow\">estimator: Pipeline</label><div class=\"sk-toggleable__content\"><pre>Pipeline(steps=[(&#x27;custom_transformer&#x27;,\n",
       "                 MeanTargetEncoderNoise(categorical=[&#x27;name&#x27;, &#x27;year&#x27;, &#x27;fuel&#x27;,\n",
       "                                                     &#x27;seller_type&#x27;,\n",
       "                                                     &#x27;transmission&#x27;, &#x27;owner&#x27;],\n",
       "                                        numeric=[&#x27;km_driven&#x27;])),\n",
       "                (&#x27;decision_tree&#x27;, DecisionTreeRegressor())])</pre></div></div></div><div class=\"sk-serial\"><div class=\"sk-item\"><div class=\"sk-serial\"><div class=\"sk-item\"><div class=\"sk-estimator sk-toggleable\"><input class=\"sk-toggleable__control sk-hidden--visually\" id=\"sk-estimator-id-12\" type=\"checkbox\" ><label for=\"sk-estimator-id-12\" class=\"sk-toggleable__label sk-toggleable__label-arrow\">MeanTargetEncoderNoise</label><div class=\"sk-toggleable__content\"><pre>MeanTargetEncoderNoise(categorical=[&#x27;name&#x27;, &#x27;year&#x27;, &#x27;fuel&#x27;, &#x27;seller_type&#x27;,\n",
       "                                    &#x27;transmission&#x27;, &#x27;owner&#x27;],\n",
       "                       numeric=[&#x27;km_driven&#x27;])</pre></div></div></div><div class=\"sk-item\"><div class=\"sk-estimator sk-toggleable\"><input class=\"sk-toggleable__control sk-hidden--visually\" id=\"sk-estimator-id-13\" type=\"checkbox\" ><label for=\"sk-estimator-id-13\" class=\"sk-toggleable__label sk-toggleable__label-arrow\">DecisionTreeRegressor</label><div class=\"sk-toggleable__content\"><pre>DecisionTreeRegressor()</pre></div></div></div></div></div></div></div></div></div></div></div></div>"
      ],
      "text/plain": [
       "GridSearchCV(estimator=Pipeline(steps=[('custom_transformer',\n",
       "                                        MeanTargetEncoderNoise(categorical=['name',\n",
       "                                                                            'year',\n",
       "                                                                            'fuel',\n",
       "                                                                            'seller_type',\n",
       "                                                                            'transmission',\n",
       "                                                                            'owner'],\n",
       "                                                               numeric=['km_driven'])),\n",
       "                                       ('decision_tree',\n",
       "                                        DecisionTreeRegressor())]),\n",
       "             param_grid={'decision_tree__max_depth': [3, 5, 8, 12],\n",
       "                         'decision_tree__max_leaf_nodes': [100, 200, 500],\n",
       "                         'decision_tree__min_impurity_decrease': [0, 0.1, 0.15,\n",
       "                                                                  0.2],\n",
       "                         'decision_tree__min_samples_split': [10, 50, 100,\n",
       "                                                              500]},\n",
       "             scoring='neg_mean_squared_error')"
      ]
     },
     "execution_count": 26,
     "metadata": {},
     "output_type": "execute_result"
    }
   ],
   "source": [
    "#строим конвейер Pipeline\n",
    "\n",
    "pipe = Pipeline([(\"custom_transformer\",\n",
    "                  MeanTargetEncoderNoise(categorical=object_cols, numeric=num_cols)),\n",
    "                  \n",
    "                  \n",
    "                 (\"decision_tree\", \n",
    "                  DecisionTreeRegressor())])\n",
    "#Создадим сетку пораметров \n",
    "param_grid = {\n",
    "    \"decision_tree__max_depth\": [3, 5, 8, 12],\n",
    "    \"decision_tree__min_samples_split\": [10, 50, 100, 500],\n",
    "    \"decision_tree__min_impurity_decrease\": [0, 0.1, 0.15, 0.2],\n",
    "    \"decision_tree__max_leaf_nodes\": [100, 200, 500]\n",
    "}\n",
    "#начальное значение генератора\n",
    "np.random.seed(1)\n",
    "\n",
    "\n",
    "# оцним качество модели на основе среднеквадратичной ошибки (MSE) и выбирать лучшие гиперпараметры\n",
    "search = GridSearchCV(pipe, param_grid, scoring='neg_mean_squared_error')\n",
    "search.fit(X_train, y_train)"
   ]
  },
  {
   "cell_type": "code",
   "execution_count": 24,
   "id": "27bdd583",
   "metadata": {},
   "outputs": [
    {
     "data": {
      "text/plain": [
       "0.18612950941374"
      ]
     },
     "execution_count": 24,
     "metadata": {},
     "output_type": "execute_result"
    }
   ],
   "source": [
    "y_pred = search.predict(X_test)\n",
    "mse(y_test, y_pred)"
   ]
  },
  {
   "cell_type": "code",
   "execution_count": 30,
   "id": "64483480",
   "metadata": {},
   "outputs": [
    {
     "data": {
      "text/plain": [
       "({'decision_tree__max_depth': 12,\n",
       "  'decision_tree__max_leaf_nodes': 200,\n",
       "  'decision_tree__min_impurity_decrease': 0,\n",
       "  'decision_tree__min_samples_split': 50},\n",
       " -0.23601177823684702)"
      ]
     },
     "execution_count": 30,
     "metadata": {},
     "output_type": "execute_result"
    }
   ],
   "source": [
    "# Лцчшие гиперпараметры и скор\n",
    "best_params = search.best_params_\n",
    "best_score = search.best_score_\n",
    "best_params, best_score\n"
   ]
  },
  {
   "cell_type": "code",
   "execution_count": null,
   "id": "d20321c5",
   "metadata": {},
   "outputs": [],
   "source": []
  }
 ],
 "metadata": {
  "kernelspec": {
   "display_name": "Python 3 (ipykernel)",
   "language": "python",
   "name": "python3"
  },
  "language_info": {
   "codemirror_mode": {
    "name": "ipython",
    "version": 3
   },
   "file_extension": ".py",
   "mimetype": "text/x-python",
   "name": "python",
   "nbconvert_exporter": "python",
   "pygments_lexer": "ipython3",
   "version": "3.11.5"
  }
 },
 "nbformat": 4,
 "nbformat_minor": 5
}
